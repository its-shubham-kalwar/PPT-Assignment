{
 "cells": [
  {
   "cell_type": "markdown",
   "id": "77567fee-132b-40a7-b47d-86e0d6356cdc",
   "metadata": {},
   "source": [
    "Question 1. Given a 1-indexed array of integers numbers that are already sorted in non-decreasing order, find two numbers such that they add up to a specific target number. Let these two numbers be numbers[index1] and numbers[index2] where 1 <= index1 < index2 < numbers.length.\n",
    "Return the indices of the two numbers, index1, and index2, added by one as an integer array [index1, index2] of length 2.\n",
    "The tests are generated such that there is exactly one solution. You may not use the same element twice.\n",
    "Your solution must use only constant extra space.\n",
    "Input: numbers = [2,7,11,15], target = 9\n",
    "Output: [1,2]\n",
    "Explanation: The sum of 2 and 7 is 9. Therefore, index1 = 1, index2 = 2. We return [1, 2]."
   ]
  },
  {
   "cell_type": "code",
   "execution_count": 1,
   "id": "e6d71846-f27a-4435-bcb6-b6d77a0f9d88",
   "metadata": {},
   "outputs": [
    {
     "name": "stdout",
     "output_type": "stream",
     "text": [
      "[1, 2]\n"
     ]
    }
   ],
   "source": [
    "def twoSum(numbers, target):\n",
    "    left = 0\n",
    "    right = len(numbers) - 1\n",
    "\n",
    "    while left < right:\n",
    "        total = numbers[left] + numbers[right]\n",
    "        if total == target:\n",
    "            return [left + 1, right + 1]\n",
    "        elif total < target:\n",
    "            left += 1\n",
    "        else:\n",
    "            right -= 1\n",
    "\n",
    "    return []\n",
    "\n",
    "numbers = [2, 7, 11, 15]\n",
    "target = 9\n",
    "result = twoSum(numbers, target)\n",
    "print(result)"
   ]
  },
  {
   "cell_type": "markdown",
   "id": "394ae42b-efef-4b06-aaf3-10aa95daeab7",
   "metadata": {},
   "source": [
    "Question 2. Given an array of integer nums sorted in non-decreasing order, find the starting and ending position of a given target value.\n",
    "If the target is not found in the array, return [-1, -1].\n",
    "You must write an algorithm with O(log n) runtime complexity\n",
    "Input: nums = [5,7,7,8,8,10], target = 8\n",
    "Output: [3,4]"
   ]
  },
  {
   "cell_type": "code",
   "execution_count": 2,
   "id": "1fbc3002-9d8f-4ec1-a59e-86dc118faf57",
   "metadata": {},
   "outputs": [
    {
     "name": "stdout",
     "output_type": "stream",
     "text": [
      "[3, 4]\n"
     ]
    }
   ],
   "source": [
    "def searchRange(nums, target):\n",
    "    left = -1\n",
    "    right = -1\n",
    "\n",
    "    # Binary search for the leftmost occurrence of the target\n",
    "    left_ptr, right_ptr = 0, len(nums) - 1\n",
    "    while left_ptr <= right_ptr:\n",
    "        mid = (left_ptr + right_ptr) // 2\n",
    "        if nums[mid] == target:\n",
    "            left = mid\n",
    "            right_ptr = mid - 1\n",
    "        elif nums[mid] < target:\n",
    "            left_ptr = mid + 1\n",
    "        else:\n",
    "            right_ptr = mid - 1\n",
    "\n",
    "    # Binary search for the rightmost occurrence of the target\n",
    "    left_ptr, right_ptr = 0, len(nums) - 1\n",
    "    while left_ptr <= right_ptr:\n",
    "        mid = (left_ptr + right_ptr) // 2\n",
    "        if nums[mid] == target:\n",
    "            right = mid\n",
    "            left_ptr = mid + 1\n",
    "        elif nums[mid] < target:\n",
    "            left_ptr = mid + 1\n",
    "        else:\n",
    "            right_ptr = mid - 1\n",
    "\n",
    "    if left <= right:\n",
    "        return [left, right]\n",
    "    else:\n",
    "        return [-1, -1]\n",
    "\n",
    "nums = [5, 7, 7, 8, 8, 10]\n",
    "target = 8\n",
    "result = searchRange(nums, target)\n",
    "print(result)"
   ]
  },
  {
   "cell_type": "markdown",
   "id": "d5ca1bc3-ba1d-455e-960d-7457aa95a30e",
   "metadata": {},
   "source": [
    "Question 3. A peak element is an element that is strictly greater than its neighbors.\n",
    "Given a 0-indexed integer array nums, find a peak element, and return its index. If the array contains multiple peaks, return the index to any of the peaks.\n",
    "You may imagine that nums[-1] = nums[n] = -∞. In other words, an element is always considered to be strictly greater than a neighbor that is outside the array.\n",
    "You must write an algorithm that runs in O(log n) time.\n",
    "Input: nums = [1,2,3,1]\n",
    "Output: 2\n",
    "Explanation: 3 is a peak element and your function should return the index number 2."
   ]
  },
  {
   "cell_type": "code",
   "execution_count": 3,
   "id": "130cd798-3328-4b89-ac41-80a151c74896",
   "metadata": {},
   "outputs": [
    {
     "name": "stdout",
     "output_type": "stream",
     "text": [
      "2\n"
     ]
    }
   ],
   "source": [
    "def findPeakElement(nums):\n",
    "    left = 0\n",
    "    right = len(nums) - 1\n",
    "\n",
    "    while left < right:\n",
    "        mid = (left + right) // 2\n",
    "\n",
    "        if nums[mid] < nums[mid + 1]:\n",
    "            left = mid + 1\n",
    "        else:\n",
    "            right = mid\n",
    "\n",
    "    return left\n",
    "\n",
    "nums = [1, 2, 3, 1]\n",
    "result = findPeakElement(nums)\n",
    "print(result)"
   ]
  },
  {
   "cell_type": "markdown",
   "id": "9687f752-aec4-4413-958d-08af1ebe9b46",
   "metadata": {},
   "source": [
    "Question 4. Given a sorted array of distinct integers and a target value, return the index if the target is found. If not, return the index where it would be if it were inserted in order.\n",
    "You must write an algorithm with O(log n) runtime complexity.\n",
    "Input: nums = [1,3,5,6], target = 5\n",
    "Output: 2\n",
    "\n",
    "Input: nums = [1,3,5,6], target = 7\n",
    "Output: 4\n"
   ]
  },
  {
   "cell_type": "code",
   "execution_count": 4,
   "id": "733016d5-3790-4dbd-adbf-1c7f1580d1d8",
   "metadata": {},
   "outputs": [
    {
     "name": "stdout",
     "output_type": "stream",
     "text": [
      "2\n",
      "4\n"
     ]
    }
   ],
   "source": [
    "def searchInsert(nums, target):\n",
    "    left = 0\n",
    "    right = len(nums) - 1\n",
    "\n",
    "    while left <= right:\n",
    "        mid = (left + right) // 2\n",
    "\n",
    "        if nums[mid] == target:\n",
    "            return mid\n",
    "\n",
    "        if nums[mid] < target:\n",
    "            left = mid + 1\n",
    "        else:\n",
    "            right = mid - 1\n",
    "\n",
    "    return left\n",
    "\n",
    "nums = [1, 3, 5, 6]\n",
    "target = 5\n",
    "result = searchInsert(nums, target)\n",
    "print(result)\n",
    "\n",
    "target = 7\n",
    "result = searchInsert(nums, target)\n",
    "print(result)"
   ]
  },
  {
   "cell_type": "markdown",
   "id": "a6c85a7d-b8de-4a2a-b870-78c33f15dac8",
   "metadata": {},
   "source": [
    "Question 5. Find the majority element in the array. A majority element in an array A[] of size n is an element that appears more than n/2 times (and hence there is at most one such element). \n",
    "Input: A[]={3, 3, 4, 2, 4, 4, 2, 4, 4}\n",
    "Output: 4\n",
    "Explanation: The frequency of 4 is 5 which is greater than half of the size of the array size. \n"
   ]
  },
  {
   "cell_type": "code",
   "execution_count": 5,
   "id": "202ddba8-09db-4987-a38c-86845df74619",
   "metadata": {},
   "outputs": [
    {
     "name": "stdout",
     "output_type": "stream",
     "text": [
      "4\n"
     ]
    }
   ],
   "source": [
    "def majorityElement(nums):\n",
    "    candidate = None\n",
    "    count = 0\n",
    "\n",
    "    for num in nums:\n",
    "        if count == 0:\n",
    "            candidate = num\n",
    "            count = 1\n",
    "        elif num == candidate:\n",
    "            count += 1\n",
    "        else:\n",
    "            count -= 1\n",
    "\n",
    "    count_candidate = sum(1 for num in nums if num == candidate)\n",
    "    if count_candidate > len(nums) / 2:\n",
    "        return candidate\n",
    "    else:\n",
    "        return None\n",
    "\n",
    "nums = [3, 3, 4, 2, 4, 4, 2, 4, 4]\n",
    "result = majorityElement(nums)\n",
    "print(result)"
   ]
  },
  {
   "cell_type": "markdown",
   "id": "cb73c883-7432-4343-ac58-b1ad681d99ce",
   "metadata": {},
   "source": [
    "Question 6. You are a product manager and currently leading a team to develop a new product. Unfortunately, the latest version of your product fails the quality check. Since each version is developed based on the previous version, all the versions after a bad version are also bad.\n",
    "Suppose you have n versions [1, 2, ..., n] and you want to find out the first bad one, which causes all the following ones to be bad.\n",
    "You are given an API bool isBadVersion(version) which returns whether the version is bad. Implement a function to find the first bad version. You should minimize the number of calls to the API.\n",
    "Input: n = 5, bad = 4\n",
    "Output: 4\n",
    "Explanation:\n",
    "call isBadVersion(3) -> false\n",
    "call isBadVersion(5) -> true\n",
    "call isBadVersion(4) -> true\n",
    "Then 4 is the first bad version.\n"
   ]
  },
  {
   "cell_type": "code",
   "execution_count": 6,
   "id": "b17f1151-e473-417f-961b-01d3a9d462ac",
   "metadata": {},
   "outputs": [
    {
     "name": "stdout",
     "output_type": "stream",
     "text": [
      "4\n"
     ]
    }
   ],
   "source": [
    "def firstBadVersion(n):\n",
    "    left = 1\n",
    "    right = n\n",
    "\n",
    "    while left < right:\n",
    "        mid = left + (right - left) // 2\n",
    "\n",
    "        if isBadVersion(mid):\n",
    "            right = mid\n",
    "        else:\n",
    "            left = mid + 1\n",
    "\n",
    "    return left\n",
    "\n",
    "n = 5\n",
    "bad = 4\n",
    "\n",
    "def isBadVersion(version):\n",
    "    if version >= bad:\n",
    "        return True\n",
    "    else:\n",
    "        return False\n",
    "\n",
    "result = firstBadVersion(n)\n",
    "print(result)"
   ]
  },
  {
   "cell_type": "markdown",
   "id": "ebe043de-ca24-4351-bd75-db8786533e56",
   "metadata": {},
   "source": [
    "Question 7. Given an array of integers, find the inversion of an array. Formally, two elements a[i] and a[j] form an inversion if a[i] > a[j] and i < j.\n",
    "N=5, arr[] = {2, 4, 1, 3, 5}\n",
    "Output: 3\n",
    "Explanation: (2,1) (4,1) and (4,3) forms an inversion in an array\n"
   ]
  },
  {
   "cell_type": "code",
   "execution_count": 7,
   "id": "b22f3de4-7014-4696-959b-dd8fb8ec4c40",
   "metadata": {},
   "outputs": [
    {
     "name": "stdout",
     "output_type": "stream",
     "text": [
      "3\n"
     ]
    }
   ],
   "source": [
    "def countInversions(arr):\n",
    "    count = 0\n",
    "\n",
    "    def mergeSortAndCount(arr):\n",
    "        nonlocal count\n",
    "        if len(arr) <= 1:\n",
    "            return arr\n",
    "\n",
    "        mid = len(arr) // 2\n",
    "        left = mergeSortAndCount(arr[:mid])\n",
    "        right = mergeSortAndCount(arr[mid:])\n",
    "        merged = []\n",
    "        i = j = 0\n",
    "\n",
    "        while i < len(left) and j < len(right):\n",
    "            if left[i] <= right[j]:\n",
    "                merged.append(left[i])\n",
    "                i += 1\n",
    "            else:\n",
    "                merged.append(right[j])\n",
    "                count += len(left) - i\n",
    "                j += 1\n",
    "\n",
    "        merged.extend(left[i:])\n",
    "        merged.extend(right[j:])\n",
    "        return merged\n",
    "\n",
    "    mergeSortAndCount(arr)\n",
    "    return count\n",
    "\n",
    "arr = [2, 4, 1, 3, 5]\n",
    "result = countInversions(arr)\n",
    "print(result)"
   ]
  },
  {
   "cell_type": "markdown",
   "id": "c8e42179-5dbe-4b92-b154-36462c431352",
   "metadata": {},
   "source": [
    "Question 8. Given three arrays sorted in non-decreasing order, print all common elements in these arrays.\n",
    "ar1[] = {1, 5, 10, 20, 40, 80} \n",
    "ar2[] = {6, 7, 20, 80, 100} \n",
    "ar3[] = {3, 4, 15, 20, 30, 70, 80, 120} \n",
    "Output: 20, 80"
   ]
  },
  {
   "cell_type": "code",
   "execution_count": 8,
   "id": "050d85be-8d91-4d74-ae39-eb364b3db2f7",
   "metadata": {},
   "outputs": [
    {
     "name": "stdout",
     "output_type": "stream",
     "text": [
      "20\n",
      "80\n"
     ]
    }
   ],
   "source": [
    "def findCommonElements(ar1, ar2, ar3):\n",
    "    ptr1 = ptr2 = ptr3 = 0\n",
    "\n",
    "    while ptr1 < len(ar1) and ptr2 < len(ar2) and ptr3 < len(ar3):\n",
    "        if ar1[ptr1] == ar2[ptr2] == ar3[ptr3]:\n",
    "            print(ar1[ptr1])\n",
    "            ptr1 += 1\n",
    "            ptr2 += 1\n",
    "            ptr3 += 1\n",
    "        elif ar1[ptr1] <= min(ar2[ptr2], ar3[ptr3]):\n",
    "            ptr1 += 1\n",
    "        elif ar2[ptr2] <= min(ar1[ptr1], ar3[ptr3]):\n",
    "            ptr2 += 1\n",
    "        elif ar3[ptr3] <= min(ar1[ptr1], ar2[ptr2]):\n",
    "            ptr3 += 1\n",
    "\n",
    "# Test the algorithm with the given example\n",
    "ar1 = [1, 5, 10, 20, 40, 80]\n",
    "ar2 = [6, 7, 20, 80, 100]\n",
    "ar3 = [3, 4, 15, 20, 30, 70, 80, 120]\n",
    "\n",
    "findCommonElements(ar1, ar2, ar3)"
   ]
  }
 ],
 "metadata": {
  "kernelspec": {
   "display_name": "Python 3 (ipykernel)",
   "language": "python",
   "name": "python3"
  },
  "language_info": {
   "codemirror_mode": {
    "name": "ipython",
    "version": 3
   },
   "file_extension": ".py",
   "mimetype": "text/x-python",
   "name": "python",
   "nbconvert_exporter": "python",
   "pygments_lexer": "ipython3",
   "version": "3.10.8"
  }
 },
 "nbformat": 4,
 "nbformat_minor": 5
}
