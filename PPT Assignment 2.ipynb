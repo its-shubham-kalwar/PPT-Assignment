{
 "cells": [
  {
   "cell_type": "markdown",
   "id": "c32f7648-0f94-4437-b9c5-54a8921c1931",
   "metadata": {},
   "source": [
    "### Question 1"
   ]
  },
  {
   "cell_type": "code",
   "execution_count": 1,
   "id": "78d926c3-7704-49f7-ac98-b80993425a5f",
   "metadata": {},
   "outputs": [
    {
     "name": "stdout",
     "output_type": "stream",
     "text": [
      "4\n"
     ]
    }
   ],
   "source": [
    "def array_pair_sum(nums):\n",
    "    nums.sort()  # Sort the array in ascending order\n",
    "    total_sum = 0\n",
    "    for i in range(0, len(nums), 2):\n",
    "        total_sum += nums[i]\n",
    "    return total_sum\n",
    "\n",
    "nums = [1, 4, 3, 2]\n",
    "print(array_pair_sum(nums))  # Output: 4\n"
   ]
  },
  {
   "cell_type": "markdown",
   "id": "0255dc0b-93bc-40ed-931d-0376bfb3e1c0",
   "metadata": {},
   "source": [
    "### Question 2"
   ]
  },
  {
   "cell_type": "code",
   "execution_count": 2,
   "id": "fdc49453-1da7-4cbd-b36a-d6aec59d77ae",
   "metadata": {},
   "outputs": [
    {
     "name": "stdout",
     "output_type": "stream",
     "text": [
      "3\n"
     ]
    }
   ],
   "source": [
    "def max_num_types(candyType):\n",
    "    unique_types = set()\n",
    "    for candy in candyType:\n",
    "        unique_types.add(candy)\n",
    "    return min(len(unique_types), len(candyType) // 2)\n",
    "\n",
    "candyType = [1, 1, 2, 2, 3, 3]\n",
    "print(max_num_types(candyType))  # Output: 3\n"
   ]
  },
  {
   "cell_type": "markdown",
   "id": "d60248ee-bef9-45df-ad57-e97ebcdf108e",
   "metadata": {},
   "source": [
    "### Question 3"
   ]
  },
  {
   "cell_type": "code",
   "execution_count": 3,
   "id": "6ee2fd07-a849-401f-8a6d-898dcca397b9",
   "metadata": {},
   "outputs": [
    {
     "name": "stdout",
     "output_type": "stream",
     "text": [
      "5\n"
     ]
    }
   ],
   "source": [
    "def findLHS(nums):\n",
    "    freq = {}\n",
    "    for num in nums:\n",
    "        freq[num] = freq.get(num, 0) + 1\n",
    "\n",
    "    max_length = 0\n",
    "    for key in freq:\n",
    "        if key + 1 in freq:\n",
    "            max_length = max(max_length, freq[key] + freq[key + 1])\n",
    "\n",
    "    return max_length\n",
    "\n",
    "nums = [1, 3, 2, 2, 5, 2, 3, 7]\n",
    "print(findLHS(nums))  # Output: 5\n"
   ]
  },
  {
   "cell_type": "markdown",
   "id": "854ef8e8-fb23-4990-89fe-177ea2122ab2",
   "metadata": {},
   "source": [
    "### Question 4"
   ]
  },
  {
   "cell_type": "code",
   "execution_count": 4,
   "id": "aed37ad6-102b-4a50-b619-7ad338b1fcc6",
   "metadata": {},
   "outputs": [
    {
     "name": "stdout",
     "output_type": "stream",
     "text": [
      "True\n"
     ]
    }
   ],
   "source": [
    "def canPlaceFlowers(flowerbed, n):\n",
    "    count = 0\n",
    "    length = len(flowerbed)\n",
    "\n",
    "    for i in range(length):\n",
    "        if flowerbed[i] == 0 and (i == 0 or flowerbed[i - 1] == 0) and (i == length - 1 or flowerbed[i + 1] == 0):\n",
    "            flowerbed[i] = 1\n",
    "            count += 1\n",
    "\n",
    "        if count == n:\n",
    "            return True\n",
    "\n",
    "    return count == n\n",
    "\n",
    "flowerbed = [1, 0, 0, 0, 1]\n",
    "n = 1\n",
    "print(canPlaceFlowers(flowerbed, n))  # Output: True\n"
   ]
  },
  {
   "cell_type": "markdown",
   "id": "3b74e476-5541-43b6-87dd-2887d03b7763",
   "metadata": {},
   "source": [
    "### Question 5"
   ]
  },
  {
   "cell_type": "code",
   "execution_count": 5,
   "id": "b2fde629-3908-44d5-a617-f91f86d3b8fa",
   "metadata": {},
   "outputs": [
    {
     "name": "stdout",
     "output_type": "stream",
     "text": [
      "6\n"
     ]
    }
   ],
   "source": [
    "def maximumProduct(nums):\n",
    "    nums.sort()\n",
    "    n = len(nums)\n",
    "\n",
    "    max_product = nums[n - 1] * nums[n - 2] * nums[n - 3]\n",
    "\n",
    "    if nums[0] < 0 and nums[1] < 0:\n",
    "        neg_product = nums[0] * nums[1] * nums[n - 1]\n",
    "        max_product = max(max_product, neg_product)\n",
    "\n",
    "    return max_product\n",
    "\n",
    "nums = [1, 2, 3]\n",
    "print(maximumProduct(nums))  # Output: 6\n"
   ]
  },
  {
   "cell_type": "markdown",
   "id": "7721ff63-51b0-4c93-b4b4-982f057ba8fb",
   "metadata": {},
   "source": [
    "### Question 6"
   ]
  },
  {
   "cell_type": "code",
   "execution_count": 6,
   "id": "d109ccdd-b16a-4a74-b663-3432b2a2091a",
   "metadata": {},
   "outputs": [
    {
     "name": "stdout",
     "output_type": "stream",
     "text": [
      "4\n"
     ]
    }
   ],
   "source": [
    "def search(nums, target):\n",
    "    left, right = 0, len(nums) - 1\n",
    "\n",
    "    while left <= right:\n",
    "        mid = (left + right) // 2\n",
    "\n",
    "        if nums[mid] == target:\n",
    "            return mid\n",
    "        elif nums[mid] < target:\n",
    "            left = mid + 1\n",
    "        else:\n",
    "            right = mid - 1\n",
    "\n",
    "    return -1\n",
    "\n",
    "nums = [-1, 0, 3, 5, 9, 12]\n",
    "target = 9\n",
    "print(search(nums, target))  # Output: 4\n"
   ]
  },
  {
   "cell_type": "markdown",
   "id": "8595bed7-3644-49c3-98de-cf936601b221",
   "metadata": {},
   "source": [
    "### Question 7"
   ]
  },
  {
   "cell_type": "code",
   "execution_count": 7,
   "id": "3ba23d4f-4307-43cd-ada0-db324b3029b3",
   "metadata": {},
   "outputs": [
    {
     "name": "stdout",
     "output_type": "stream",
     "text": [
      "True\n"
     ]
    }
   ],
   "source": [
    "def isMonotonic(nums):\n",
    "    increasing = True\n",
    "    decreasing = True\n",
    "\n",
    "    for i in range(1, len(nums)):\n",
    "        if nums[i] > nums[i - 1]:\n",
    "            decreasing = False\n",
    "        if nums[i] < nums[i - 1]:\n",
    "            increasing = False\n",
    "\n",
    "    return increasing or decreasing\n",
    "\n",
    "nums = [1, 2, 2, 3]\n",
    "print(isMonotonic(nums))  # Output: True\n"
   ]
  },
  {
   "cell_type": "markdown",
   "id": "147dc2fe-2579-4f50-bfd2-c81e4712e81a",
   "metadata": {},
   "source": [
    "### Question 8"
   ]
  },
  {
   "cell_type": "code",
   "execution_count": 8,
   "id": "8a1fae2b-c6b7-48c6-bcde-45c073d70c74",
   "metadata": {},
   "outputs": [
    {
     "name": "stdout",
     "output_type": "stream",
     "text": [
      "0\n"
     ]
    }
   ],
   "source": [
    "def minimumScore(nums, k):\n",
    "    minimum = min(nums)\n",
    "    maximum = max(nums)\n",
    "    initial_score = maximum - minimum\n",
    "\n",
    "    if initial_score == 0:\n",
    "        return 0\n",
    "\n",
    "    for num in nums:\n",
    "        potential_min = num - k\n",
    "        potential_max = num + k\n",
    "\n",
    "        if potential_min <= minimum and potential_max >= maximum:\n",
    "            minimum = potential_min\n",
    "            maximum = potential_max\n",
    "\n",
    "    final_score = maximum - minimum\n",
    "    return final_score\n",
    "\n",
    "nums = [1]\n",
    "k = 0\n",
    "print(minimumScore(nums, k))  # Output: 0\n"
   ]
  }
 ],
 "metadata": {
  "kernelspec": {
   "display_name": "Python 3 (ipykernel)",
   "language": "python",
   "name": "python3"
  },
  "language_info": {
   "codemirror_mode": {
    "name": "ipython",
    "version": 3
   },
   "file_extension": ".py",
   "mimetype": "text/x-python",
   "name": "python",
   "nbconvert_exporter": "python",
   "pygments_lexer": "ipython3",
   "version": "3.10.8"
  }
 },
 "nbformat": 4,
 "nbformat_minor": 5
}
