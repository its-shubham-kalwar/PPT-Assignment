{
 "cells": [
  {
   "cell_type": "markdown",
   "id": "7bf0c862-a2d4-4716-8aa0-913246f9a016",
   "metadata": {},
   "source": [
    "**Question 1**\n",
    "\n",
    "Given two strings s1 and s2, return *the lowest **ASCII** sum of deleted characters to make two strings equal*.\n",
    "\n",
    "**Example 1:**\n",
    "\n",
    "**Input:** s1 = \"sea\", s2 = \"eat\"\n",
    "\n",
    "**Output:** 231\n",
    "\n",
    "**Explanation:** Deleting \"s\" from \"sea\" adds the ASCII value of \"s\" (115) to the sum.\n",
    "\n",
    "Deleting \"t\" from \"eat\" adds 116 to the sum.\n",
    "\n",
    "At the end, both strings are equal, and 115 + 116 = 231 is the minimum sum possible to achieve this."
   ]
  },
  {
   "cell_type": "code",
   "execution_count": 1,
   "id": "d8880b3f-5c28-4095-a340-dfcce1954225",
   "metadata": {},
   "outputs": [
    {
     "name": "stdout",
     "output_type": "stream",
     "text": [
      "231\n"
     ]
    }
   ],
   "source": [
    "def minimumDeleteSum(s1, s2):\n",
    "    m, n = len(s1), len(s2)\n",
    "    dp = [[0] * (n + 1) for _ in range(m + 1)]\n",
    "\n",
    "    for i in range(1, m + 1):\n",
    "        dp[i][0] = dp[i-1][0] + ord(s1[i-1])\n",
    "\n",
    "    for j in range(1, n + 1):\n",
    "        dp[0][j] = dp[0][j-1] + ord(s2[j-1])\n",
    "\n",
    "    for i in range(1, m + 1):\n",
    "        for j in range(1, n + 1):\n",
    "            if s1[i-1] == s2[j-1]:\n",
    "                dp[i][j] = dp[i-1][j-1]\n",
    "            else:\n",
    "                dp[i][j] = min(dp[i-1][j] + ord(s1[i-1]), dp[i][j-1] + ord(s2[j-1]))\n",
    "\n",
    "    return dp[m][n]\n",
    "\n",
    "s1 = \"sea\"\n",
    "s2 = \"eat\"\n",
    "print(minimumDeleteSum(s1, s2))"
   ]
  },
  {
   "cell_type": "markdown",
   "id": "d8c2df61-3848-4e6e-9971-db73e631d131",
   "metadata": {},
   "source": [
    "**Question 2**\n",
    "\n",
    "Given a string s containing only three types of characters: '(', ')' and '*', return true *if* s *is **valid***.\n",
    "\n",
    "The following rules define a **valid** string:\n",
    "\n",
    "- Any left parenthesis '(' must have a corresponding right parenthesis ')'.\n",
    "- Any right parenthesis ')' must have a corresponding left parenthesis '('.\n",
    "- Left parenthesis '(' must go before the corresponding right parenthesis ')'.\n",
    "- '*' could be treated as a single right parenthesis ')' or a single left parenthesis '(' or an empty string \"\".\n",
    "\n",
    "**Example 1:**\n",
    "\n",
    "**Input:** s = \"()\"\n",
    "\n",
    "**Output:**\n",
    "\n",
    "true"
   ]
  },
  {
   "cell_type": "code",
   "execution_count": 2,
   "id": "092c6e65-53d0-4797-9be6-88f013376157",
   "metadata": {},
   "outputs": [
    {
     "name": "stdout",
     "output_type": "stream",
     "text": [
      "True\n"
     ]
    }
   ],
   "source": [
    "def checkValidString(s):\n",
    "    stack = []\n",
    "    star_count = 0\n",
    "    left_count = 0\n",
    "\n",
    "    for ch in s:\n",
    "        if ch == '(':\n",
    "            stack.append(ch)\n",
    "            left_count += 1\n",
    "        elif ch == ')':\n",
    "            if stack:\n",
    "                stack.pop()\n",
    "                left_count -= 1\n",
    "            elif star_count > 0:\n",
    "                star_count -= 1\n",
    "            else:\n",
    "                return False\n",
    "        elif ch == '*':\n",
    "            star_count += 1\n",
    "\n",
    "    while stack and (left_count + star_count) > 0:\n",
    "        if left_count > 0:\n",
    "            stack.pop()\n",
    "            left_count -= 1\n",
    "        elif star_count > 0:\n",
    "            stack.pop()\n",
    "            star_count -= 1\n",
    "\n",
    "    return len(stack) == 0\n",
    "\n",
    "s = \"()\"\n",
    "print(checkValidString(s))"
   ]
  },
  {
   "cell_type": "markdown",
   "id": "611068bd-9364-46f6-994d-7f162e4b49aa",
   "metadata": {},
   "source": [
    "**Question 3**\n",
    "\n",
    "Given two strings word1 and word2, return *the minimum number of **steps** required to make* word1 *and* word2 *the same*.\n",
    "\n",
    "In one **step**, you can delete exactly one character in either string.\n",
    "\n",
    "**Example 1:**\n",
    "\n",
    "**Input:** word1 = \"sea\", word2 = \"eat\"\n",
    "\n",
    "**Output:** 2\n",
    "\n",
    "**Explanation:** You need one step to make \"sea\" to \"ea\" and another step to make \"eat\" to \"ea\"."
   ]
  },
  {
   "cell_type": "code",
   "execution_count": 3,
   "id": "04d06513-5c0a-4873-bc50-2dbd82e1650c",
   "metadata": {},
   "outputs": [
    {
     "name": "stdout",
     "output_type": "stream",
     "text": [
      "2\n"
     ]
    }
   ],
   "source": [
    "def minDistance(word1, word2):\n",
    "    m, n = len(word1), len(word2)\n",
    "    dp = [[0] * (n + 1) for _ in range(m + 1)]\n",
    "\n",
    "    for i in range(m + 1):\n",
    "        dp[i][0] = i\n",
    "\n",
    "    for j in range(n + 1):\n",
    "        dp[0][j] = j\n",
    "\n",
    "    for i in range(1, m + 1):\n",
    "        for j in range(1, n + 1):\n",
    "            if word1[i-1] == word2[j-1]:\n",
    "                dp[i][j] = dp[i-1][j-1]\n",
    "            else:\n",
    "                dp[i][j] = min(dp[i-1][j] + 1, dp[i][j-1] + 1)\n",
    "\n",
    "    return dp[m][n]\n",
    "\n",
    "word1 = \"sea\"\n",
    "word2 = \"eat\"\n",
    "print(minDistance(word1, word2))"
   ]
  },
  {
   "cell_type": "markdown",
   "id": "3c30ef18-049b-4ea4-b7eb-40fdc53512e6",
   "metadata": {},
   "source": [
    "**Question 4**\n",
    "\n",
    "You need to construct a binary tree from a string consisting of parenthesis and integers.\n",
    "\n",
    "The whole input represents a binary tree. It contains an integer followed by zero, one or two pairs of parenthesis. The integer represents the root's value and a pair of parenthesis contains a child binary tree with the same structure.\n",
    "You always start to construct the **left** child node of the parent first if it exists.\n",
    "\n",
    "**Input:** s = \"4(2(3)(1))(6(5))\"\n",
    "\n",
    "**Output:** [4,2,6,3,1,5]"
   ]
  },
  {
   "cell_type": "code",
   "execution_count": 4,
   "id": "9bd59348-5269-48ff-bfab-3e2035edd8aa",
   "metadata": {},
   "outputs": [
    {
     "name": "stdout",
     "output_type": "stream",
     "text": [
      "[3, 2, 1, 4, 5, 6]\n"
     ]
    }
   ],
   "source": [
    "class TreeNode:\n",
    "    def __init__(self, val=0, left=None, right=None):\n",
    "        self.val = val\n",
    "        self.left = left\n",
    "        self.right = right\n",
    "\n",
    "def str2tree(s):\n",
    "    def buildTree(s, start, end):\n",
    "        if start > end:\n",
    "            return None\n",
    "\n",
    "        i = s.find('(', start, end)\n",
    "        if i == -1:\n",
    "            val = int(s[start:end+1])\n",
    "            return TreeNode(val)\n",
    "\n",
    "        j = findClosingParenthesis(s, i)\n",
    "        val = int(s[start:i])\n",
    "        node = TreeNode(val)\n",
    "        node.left = buildTree(s, i+1, j-1)\n",
    "        node.right = buildTree(s, j+2, end-1)\n",
    "        return node\n",
    "\n",
    "    def findClosingParenthesis(s, start):\n",
    "        count = 0\n",
    "        for i in range(start, len(s)):\n",
    "            if s[i] == '(':\n",
    "                count += 1\n",
    "            elif s[i] == ')':\n",
    "                count -= 1\n",
    "                if count == 0:\n",
    "                    return i\n",
    "        return -1\n",
    "\n",
    "    return buildTree(s, 0, len(s)-1)\n",
    "\n",
    "s = \"4(2(3)(1))(6(5))\"\n",
    "root = str2tree(s)\n",
    "\n",
    "# Helper function to print the tree in inorder traversal\n",
    "def inorderTraversal(node):\n",
    "    if node is None:\n",
    "        return []\n",
    "    return inorderTraversal(node.left) + [node.val] + inorderTraversal(node.right)\n",
    "\n",
    "print(inorderTraversal(root))"
   ]
  },
  {
   "cell_type": "markdown",
   "id": "194dd238-6db3-4824-b865-62aff18703e1",
   "metadata": {},
   "source": [
    "**Question 5**\n",
    "\n",
    "Given an array of characters chars, compress it using the following algorithm:\n",
    "\n",
    "Begin with an empty string s. For each group of **consecutive repeating characters** in chars:\n",
    "\n",
    "- If the group's length is 1, append the character to s.\n",
    "- Otherwise, append the character followed by the group's length.\n",
    "\n",
    "The compressed string s **should not be returned separately**, but instead, be stored **in the input character array chars**. Note that group lengths that are 10 or longer will be split into multiple characters in chars.\n",
    "\n",
    "After you are done **modifying the input array,** return *the new length of the array*.\n",
    "\n",
    "You must write an algorithm that uses only constant extra space.\n",
    "\n",
    "**Example 1:**\n",
    "\n",
    "**Input:** chars = [\"a\",\"a\",\"b\",\"b\",\"c\",\"c\",\"c\"]\n",
    "\n",
    "**Output:** Return 6, and the first 6 characters of the input array should be: [\"a\",\"2\",\"b\",\"2\",\"c\",\"3\"]\n",
    "\n",
    "**Explanation:**\n",
    "\n",
    "The groups are \"aa\", \"bb\", and \"ccc\". This compresses to \"a2b2c3\"."
   ]
  },
  {
   "cell_type": "code",
   "execution_count": 5,
   "id": "fd116011-68bd-40e6-a472-179629a8126d",
   "metadata": {},
   "outputs": [
    {
     "name": "stdout",
     "output_type": "stream",
     "text": [
      "6\n",
      "['a', '2', 'b', '2', 'c', '3']\n"
     ]
    }
   ],
   "source": [
    "def compress(chars):\n",
    "    write = 0\n",
    "    count = 1\n",
    "\n",
    "    for read in range(1, len(chars)):\n",
    "        if chars[read] == chars[read-1]:\n",
    "            count += 1\n",
    "        else:\n",
    "            chars[write] = chars[read-1]\n",
    "            write += 1\n",
    "            if count > 1:\n",
    "                count_str = str(count)\n",
    "                for digit in count_str:\n",
    "                    chars[write] = digit\n",
    "                    write += 1\n",
    "            count = 1\n",
    "\n",
    "    chars[write] = chars[-1]\n",
    "    write += 1\n",
    "    if count > 1:\n",
    "        count_str = str(count)\n",
    "        for digit in count_str:\n",
    "            chars[write] = digit\n",
    "            write += 1\n",
    "\n",
    "    return write\n",
    "\n",
    "chars = [\"a\", \"a\", \"b\", \"b\", \"c\", \"c\", \"c\"]\n",
    "new_length = compress(chars)\n",
    "print(new_length)\n",
    "print(chars[:new_length])"
   ]
  },
  {
   "cell_type": "markdown",
   "id": "03e689a5-c7da-4843-9498-cb628bfe3438",
   "metadata": {},
   "source": [
    "**Question 6**\n",
    "\n",
    "Given two strings s and p, return *an array of all the start indices of* p*'s anagrams in* s. You may return the answer in **any order**.\n",
    "\n",
    "An **Anagram** is a word or phrase formed by rearranging the letters of a different word or phrase, typically using all the original letters exactly once.\n",
    "\n",
    "**Example 1:**\n",
    "\n",
    "**Input:** s = \"cbaebabacd\", p = \"abc\"\n",
    "\n",
    "**Output:** [0,6]\n",
    "\n",
    "**Explanation:**\n",
    "\n",
    "The substring with start index = 0 is \"cba\", which is an anagram of \"abc\".\n",
    "\n",
    "The substring with start index = 6 is \"bac\", which is an anagram of \"abc\"."
   ]
  },
  {
   "cell_type": "code",
   "execution_count": 6,
   "id": "974ae2ae-bc72-4cde-853a-2ee62d4a6241",
   "metadata": {},
   "outputs": [
    {
     "name": "stdout",
     "output_type": "stream",
     "text": [
      "[0, 6]\n"
     ]
    }
   ],
   "source": [
    "from collections import Counter\n",
    "\n",
    "def findAnagrams(s, p):\n",
    "    result = []\n",
    "    target_freq = Counter(p)\n",
    "    window_freq = Counter()\n",
    "    left, right = 0, 0\n",
    "\n",
    "    while right < len(s):\n",
    "        window_freq[s[right]] += 1\n",
    "\n",
    "        if right - left + 1 >= len(p):\n",
    "            if window_freq == target_freq:\n",
    "                result.append(left)\n",
    "            \n",
    "            window_freq[s[left]] -= 1\n",
    "            if window_freq[s[left]] == 0:\n",
    "                del window_freq[s[left]]\n",
    "            left += 1\n",
    "        \n",
    "        right += 1\n",
    "\n",
    "    return result\n",
    "\n",
    "s = \"cbaebabacd\"\n",
    "p = \"abc\"\n",
    "result = findAnagrams(s, p)\n",
    "print(result)"
   ]
  },
  {
   "cell_type": "markdown",
   "id": "79b48cca-c735-418c-bbe9-895ca30031bd",
   "metadata": {},
   "source": [
    "**Question 7**\n",
    "\n",
    "Given an encoded string, return its decoded string.\n",
    "\n",
    "The encoding rule is: k[encoded_string], where the encoded_string inside the square brackets is being repeated exactly k times. Note that k is guaranteed to be a positive integer.\n",
    "\n",
    "You may assume that the input string is always valid; there are no extra white spaces, square brackets are well-formed, etc. Furthermore, you may assume that the original data does not contain any digits and that digits are only for those repeat numbers, k. For example, there will not be input like 3a or 2[4].\n",
    "\n",
    "The test cases are generated so that the length of the output will never exceed 105.\n",
    "\n",
    "**Example 1:**\n",
    "\n",
    "**Input:** s = \"3[a]2[bc]\"\n",
    "\n",
    "**Output:** \"aaabcbc\""
   ]
  },
  {
   "cell_type": "code",
   "execution_count": 7,
   "id": "55c8e46b-661c-4ac9-9a22-d2bfd72ff49a",
   "metadata": {},
   "outputs": [
    {
     "name": "stdout",
     "output_type": "stream",
     "text": [
      "aaabcbc\n"
     ]
    }
   ],
   "source": [
    "def decodeString(s):\n",
    "    stack = []\n",
    "\n",
    "    for ch in s:\n",
    "        if ch != ']':\n",
    "            stack.append(ch)\n",
    "        else:\n",
    "            decoded_str = ''\n",
    "            while stack and stack[-1] != '[':\n",
    "                decoded_str = stack.pop() + decoded_str\n",
    "\n",
    "            stack.pop()  # Pop the opening bracket '['\n",
    "\n",
    "            if stack and stack[-1].isdigit():\n",
    "                k = int(stack.pop())\n",
    "                decoded_str *= k\n",
    "\n",
    "            stack.append(decoded_str)\n",
    "\n",
    "    return ''.join(stack)\n",
    "\n",
    "s = \"3[a]2[bc]\"\n",
    "decoded_str = decodeString(s)\n",
    "print(decoded_str)"
   ]
  },
  {
   "cell_type": "markdown",
   "id": "b9674ff0-57dd-4af8-ad74-cebfced2af2a",
   "metadata": {},
   "source": [
    "**Question 8**\n",
    "\n",
    "Given two strings s and goal, return true *if you can swap two letters in* s *so the result is equal to* goal*, otherwise, return* false*.*\n",
    "\n",
    "Swapping letters is defined as taking two indices i and j (0-indexed) such that i != j and swapping the characters at s[i] and s[j].\n",
    "\n",
    "- For example, swapping at indices 0 and 2 in \"abcd\" results in \"cbad\".\n",
    "\n",
    "**Example 1:**\n",
    "\n",
    "**Input:** s = \"ab\", goal = \"ba\"\n",
    "\n",
    "**Output:** true\n",
    "\n",
    "**Explanation:** You can swap s[0] = 'a' and s[1] = 'b' to get \"ba\", which is equal to goal."
   ]
  },
  {
   "cell_type": "code",
   "execution_count": 8,
   "id": "3edff44f-0f02-4c43-9ba9-c08b9a8dfb13",
   "metadata": {},
   "outputs": [
    {
     "name": "stdout",
     "output_type": "stream",
     "text": [
      "True\n"
     ]
    }
   ],
   "source": [
    "def buddyStrings(s, goal):\n",
    "    if len(s) != len(goal):\n",
    "        return False\n",
    "\n",
    "    diff_chars_s = []\n",
    "    diff_chars_goal = []\n",
    "\n",
    "    for i in range(len(s)):\n",
    "        if s[i] != goal[i]:\n",
    "            diff_chars_s.append(s[i])\n",
    "            diff_chars_goal.append(goal[i])\n",
    "\n",
    "    if len(diff_chars_s) == 2 and len(diff_chars_goal) == 2:\n",
    "        return diff_chars_s == diff_chars_goal[::-1]\n",
    "\n",
    "    if len(diff_chars_s) == 0 and len(diff_chars_goal) == 0:\n",
    "        return len(set(s)) < len(s)\n",
    "\n",
    "    return False\n",
    "\n",
    "s = \"ab\"\n",
    "goal = \"ba\"\n",
    "result = buddyStrings(s, goal)\n",
    "print(result)"
   ]
  }
 ],
 "metadata": {
  "kernelspec": {
   "display_name": "Python 3 (ipykernel)",
   "language": "python",
   "name": "python3"
  },
  "language_info": {
   "codemirror_mode": {
    "name": "ipython",
    "version": 3
   },
   "file_extension": ".py",
   "mimetype": "text/x-python",
   "name": "python",
   "nbconvert_exporter": "python",
   "pygments_lexer": "ipython3",
   "version": "3.10.8"
  }
 },
 "nbformat": 4,
 "nbformat_minor": 5
}
