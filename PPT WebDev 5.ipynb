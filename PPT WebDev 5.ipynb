{
 "cells": [
  {
   "cell_type": "markdown",
   "id": "94755be6-f7ec-4438-931c-ecddabf106c7",
   "metadata": {},
   "source": [
    "### Q.1 What’s difference between Synchronous and Asynchronous?"
   ]
  },
  {
   "cell_type": "code",
   "execution_count": null,
   "id": "09780e55-b284-4984-b0d5-ffd883062ded",
   "metadata": {},
   "outputs": [],
   "source": [
    "Synchronous Transmission: In Synchronous Transmission, data is sent in form of \n",
    "blocks or frames. This transmission is the full-duplex type. Between sender and\n",
    "receiver, synchronization is compulsory. In Synchronous transmission, There is \n",
    "no gap present between data. It is more efficient and more reliable than \n",
    "asynchronous transmission to transfer a large amount of data. \n",
    "\n",
    "Example:\n",
    "\n",
    "Chat Rooms\n",
    "Telephonic Conversations\n",
    "Video Conferencing \n",
    "\n",
    "\n",
    "Asynchronous Transmission: In Asynchronous Transmission, data is sent in form\n",
    "of byte or character. This transmission is the half-duplex type transmission. \n",
    "In this transmission start bits and stop bits are added with data. It does not \n",
    "require synchronization. \n",
    "\n",
    "Example:\n",
    "\n",
    "Email\n",
    "Forums\n",
    "Letters"
   ]
  },
  {
   "cell_type": "markdown",
   "id": "d138e6c0-f7e2-482d-90f2-6794eab7955d",
   "metadata": {},
   "source": [
    "### Q.2 What are Web Apis ?"
   ]
  },
  {
   "cell_type": "code",
   "execution_count": null,
   "id": "31a7ee8c-9cfc-4610-b4d7-b0f0bbe3b193",
   "metadata": {},
   "outputs": [],
   "source": [
    "Web API is an API as the name suggests, it can be accessed over the web using \n",
    "the HTTP protocol. It is a framework that helps you to create and develop \n",
    "HTTP based RESTFUL services. \n",
    "The web API can be developed by using different technologies such as java, ASP.NET, etc.\n",
    "Web API is used in either a web server or a web browser. Basically Web API is a\n",
    "web development concept. It is limited to Web Application’s client-side and also \n",
    "it does not include a web server or web browser details. If an application is to \n",
    "be used on a distributed system and to provide services on different devices like \n",
    "laptops, mobiles, etc then web API services are used. Web API is the enhanced form \n",
    "of the web application."
   ]
  },
  {
   "cell_type": "markdown",
   "id": "4a6b0382-0f3f-4e3c-b542-d2d1d763d7b3",
   "metadata": {},
   "source": [
    "### Q.3 Explain SetTimeOut and setInterval ?"
   ]
  },
  {
   "cell_type": "code",
   "execution_count": null,
   "id": "1dd93cf8-ca22-456e-bd17-2c71838708a6",
   "metadata": {},
   "outputs": [],
   "source": [
    "JavaScript SetTimeout and SetInterval are the only native function in JavaScript \n",
    "that is used to run code asynchronously, it means allowing the function to be \n",
    "executed immediately, there is no need to wait for the current execution completion, \n",
    "it will be for further execution.\n",
    "\n",
    "JavaScript setTimeout() Method: This method executes a function, after waiting \n",
    "a specified number of milliseconds. \n",
    "\n",
    "Syntax:\n",
    "\n",
    "window.setTimeout(function, milliseconds);\n",
    "Parameter: There are two parameters accepted by this method\n",
    "\n",
    "function: the first parameter is a function to be executed\n",
    "milliseconds: which indicates the number of milliseconds before the execution takes place.\n",
    "\n",
    "JavaScript setInterval() Method: The setInterval() method repeats a given function\n",
    "at every given time interval. \n",
    "\n",
    "Syntax:\n",
    "\n",
    "window.setInterval(function, milliseconds);\n",
    "Parameter: There are two parameters that accepted by this method\n",
    "\n",
    "function: the first parameter is the function to be executed\n",
    "milliseconds: indicates the length of the time interval between each execution."
   ]
  },
  {
   "cell_type": "markdown",
   "id": "b03f5601-4110-40ff-85b6-65093f7dc3d0",
   "metadata": {},
   "source": [
    "### Q.4 how can you handle Async code in JavaScript ?"
   ]
  },
  {
   "cell_type": "code",
   "execution_count": null,
   "id": "61afa2ad-92e5-4cc7-ac19-db3fd2acc765",
   "metadata": {},
   "outputs": [],
   "source": [
    "The keyword async before a function makes the function return a promise:\n",
    "\n",
    "Example\n",
    "async function myFunction() {\n",
    "  return \"Hello\";\n",
    "}\n",
    "Is the same as:\n",
    "\n",
    "function myFunction() {\n",
    "  return Promise.resolve(\"Hello\");\n",
    "}\n",
    "Here is how to use the Promise:\n",
    "\n",
    "myFunction().then(\n",
    "  function(value) { /* code if successful */ },\n",
    "  function(error) { /* code if some error */ }\n",
    ");\n",
    "Example\n",
    "async function myFunction() {\n",
    "  return \"Hello\";\n",
    "}\n",
    "myFunction().then(\n",
    "  function(value) {myDisplayer(value);},\n",
    "  function(error) {myDisplayer(error);}\n",
    ");"
   ]
  },
  {
   "cell_type": "markdown",
   "id": "d5952579-a115-485b-97e5-d5f331d660c3",
   "metadata": {},
   "source": [
    "### Q.5 What are Callbacks &  Callback Hell ?"
   ]
  },
  {
   "cell_type": "code",
   "execution_count": null,
   "id": "495417bb-35d8-4c3e-aed1-6877131c6689",
   "metadata": {},
   "outputs": [],
   "source": [
    "Callback: A callback is a function that is passed as an argument to another \n",
    "function that executes the callback based on the result. They are basically \n",
    "functions that are executed only after a result is produced. Callbacks are \n",
    "an important part of asynchronous JavaScript.\n",
    "\n",
    "\n",
    "Callback Hell: Callback Hell is essentially nested callbacks stacked below one \n",
    "another forming a pyramid structure. Every callback depends/waits for the previous \n",
    "callback, thereby making a pyramid structure that affects the readability \n",
    "and maintainability of the code."
   ]
  },
  {
   "cell_type": "markdown",
   "id": "a5b2d1ff-70d4-417d-9678-4e659eb518cd",
   "metadata": {},
   "source": [
    "### Q.6 What are Promises & Explain Some Three Methods of Promise"
   ]
  },
  {
   "cell_type": "code",
   "execution_count": null,
   "id": "46604fd3-445e-4c50-9ff0-107de8b3ac27",
   "metadata": {},
   "outputs": [],
   "source": [
    "JavaScript Promise are easy to manage when dealing with multiple asynchronous \n",
    "operations where callbacks can create callback hell leading to unmanageable code.\n",
    "Prior to promises events and callback functions were used but they had limited \n",
    "functionalities and created unmanageable code. Multiple callback functions would \n",
    "create callback hell that leads to unmanageable code. Promises are used to handle \n",
    "asynchronous operations in JavaScript.\n",
    "\n",
    "Syntax:\n",
    "\n",
    "let promise = new Promise(function(resolve, reject){\n",
    "     //do something\n",
    "});\n",
    "Parameters\n",
    "\n",
    "The promise constructor takes only one argument which is a callback function\n",
    "The callback function takes two arguments, resolve and reject\n",
    "Perform operations inside the callback function and if everything went well \n",
    "then call resolve.\n",
    "If desired operations do not go well then call reject.\n",
    "A Promise has four states:\n",
    "    \n",
    "fulfilled: Action related to the promise succeeded\n",
    "rejected: Action related to the promise failed\n",
    "pending: Promise is still pending i.e. not fulfilled or rejected yet\n",
    "settled: Promise has been fulfilled or rejected\n",
    "\n",
    "1.Promise then() Method: It is invoked when a promise is either resolved or rejected. \n",
    "It may also be defined as a carrier that takes data from promise and further executes\n",
    "it successfully.\n",
    "\n",
    "Parameters: It takes two functions as parameters.\n",
    "\n",
    "The first function is executed if the promise is resolved and a result is received.\n",
    "The second function is executed if the promise is rejected and an error is received. \n",
    "(It is optional and there is a better way to handle error using .catch() method\n",
    "Syntax:\n",
    "\n",
    ".then(function(result){\n",
    "        //handle success\n",
    "}, function(error){\n",
    "        //handle error\n",
    "})\n",
    "                                                                                      \n",
    "2. Promise catch() Method: It is invoked when a promise is either rejected or some \n",
    " error has occurred in execution. It is used as an Error Handler whenever at any\n",
    " step there is a chance of getting an error.\n",
    "\n",
    "Parameters: It takes one function as a parameter.\n",
    "\n",
    "Function to handle errors or promise rejections.(.catch() method internally calls .\n",
    "then(null, errorHandler), i.e. .catch() is just a shorthand for .then\n",
    "(null, errorHandler) )\n",
    " \n",
    "Syntax:\n",
    "\n",
    ".catch(function(error){\n",
    "        //handle error\n",
    "    })\n",
    "                                                                                              "
   ]
  },
  {
   "cell_type": "markdown",
   "id": "da2c1d75-8123-4e6b-9ac8-526af55c7d9d",
   "metadata": {},
   "source": [
    "### Q.7 What’s async & await Keyword in JavaScript"
   ]
  },
  {
   "cell_type": "code",
   "execution_count": null,
   "id": "c5397056-1c39-4551-bd37-ef9cced0c040",
   "metadata": {},
   "outputs": [],
   "source": [
    "The keyword async before a function makes the function return a promise:\n",
    "\n",
    "Example\n",
    "async function myFunction() {\n",
    "  return \"Hello\";\n",
    "}\n",
    "Is the same as:\n",
    "\n",
    "function myFunction() {\n",
    "  return Promise.resolve(\"Hello\");\n",
    "}\n",
    "Here is how to use the Promise:\n",
    "\n",
    "myFunction().then(\n",
    "  function(value) { /* code if successful */ },\n",
    "  function(error) { /* code if some error */ }\n",
    ");\n",
    "\n",
    "\n",
    "Await Syntax\n",
    "The await keyword can only be used inside an async function.\n",
    "\n",
    "The await keyword makes the function pause the execution and wait for a resolved promise before it continues:\n",
    "\n",
    "let value = await promise;\n",
    "Example\n",
    "Let's go slowly and learn how to use it.\n",
    "\n",
    "Basic Syntax\n",
    "async function myDisplay() {\n",
    "  let myPromise = new Promise(function(resolve, reject) {\n",
    "    resolve(\"I love You !!\");\n",
    "  });\n",
    "  document.getElementById(\"demo\").innerHTML = await myPromise;\n",
    "}\n"
   ]
  },
  {
   "cell_type": "markdown",
   "id": "d9b20774-bf29-412c-8bd3-438b4ad074ed",
   "metadata": {},
   "source": [
    "### Q.8 Explain Purpose of Try and Catch Block & Why do we need it?"
   ]
  },
  {
   "cell_type": "code",
   "execution_count": null,
   "id": "3d04ea60-5aa6-4f9a-ae21-25713bb59398",
   "metadata": {},
   "outputs": [],
   "source": [
    "An exception is an “unwanted or unexpected event”, which occurs during the \n",
    "execution of the program i.e, at run-time, that disrupts the normal flow \n",
    "of the program’s instructions. When an exception occurs, the execution \n",
    "of the program gets terminated. \n",
    "\n",
    "1. try: The try block contains a set of statements where an exception can occur.\n",
    "\n",
    "try\n",
    "{\n",
    "    // statement(s) that might cause exception\n",
    "}\n",
    "2. catch: The catch block is used to handle the uncertain condition of a try block.\n",
    "A try block is always followed by a catch block, which handles the exception that \n",
    "occurs in the associated try block.\n",
    "\n",
    "catch\n",
    "{\n",
    "   // statement(s) that handle an exception\n",
    "   // examples, closing a connection, closing\n",
    "   // file, exiting the process after writing\n",
    "   // details to a log file.\n",
    "}"
   ]
  },
  {
   "cell_type": "markdown",
   "id": "3b97b006-8f42-40cb-adf1-310438a6b63c",
   "metadata": {},
   "source": [
    "### Q.9 Explain fetch"
   ]
  },
  {
   "cell_type": "code",
   "execution_count": null,
   "id": "f70b9e68-f997-4204-a081-c0abba47deb6",
   "metadata": {},
   "outputs": [],
   "source": [
    "For long XMLHttpRequest is being used by web developer’s trusted “amigo”. \n",
    "XMLHttpRequest has enabled ajax and a whole new kind of interactive exposure. \n",
    "However, it is being slowly succeeded by the Fetch API. These both deliver \n",
    "the same work i.e. fetching data asynchronously from a different network, \n",
    "but the Fetch API is Promise based. This provides a more cleaner and more \n",
    "concise syntax.\n",
    "The Fetch API provides the fetch() method defined on a window object. \n",
    "This is used to perform requests. This method returns a Promise which \n",
    "can be further used to retrieve response of the request. "
   ]
  },
  {
   "cell_type": "markdown",
   "id": "3de5e92e-560b-49bf-9bf6-558c7096c9d4",
   "metadata": {},
   "source": [
    "### Q.10 How do you define an asynchronous function in JavaScript using async/await?"
   ]
  },
  {
   "cell_type": "code",
   "execution_count": null,
   "id": "b52a52c8-2af8-451d-8717-bd18ee15ae5e",
   "metadata": {},
   "outputs": [],
   "source": [
    "To define an asynchronous function in JavaScript using async/await, you can use the following syntax:\n",
    "\n",
    "async function functionName() {\n",
    "  await someOtherFunction();\n",
    "}\n",
    "Copy\n",
    "The async keyword defines an asynchronous function. The await keyword is used inside \n",
    "the async function to pause the execution of the function until the promise is resolved. \n",
    "You can also define async functions using the async function expression."
   ]
  }
 ],
 "metadata": {
  "kernelspec": {
   "display_name": "Python 3 (ipykernel)",
   "language": "python",
   "name": "python3"
  },
  "language_info": {
   "codemirror_mode": {
    "name": "ipython",
    "version": 3
   },
   "file_extension": ".py",
   "mimetype": "text/x-python",
   "name": "python",
   "nbconvert_exporter": "python",
   "pygments_lexer": "ipython3",
   "version": "3.10.8"
  }
 },
 "nbformat": 4,
 "nbformat_minor": 5
}
